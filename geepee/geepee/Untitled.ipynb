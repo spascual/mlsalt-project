{
 "cells": [
  {
   "cell_type": "code",
   "execution_count": 36,
   "metadata": {},
   "outputs": [],
   "source": [
    "import cPickle as pickle\n",
    "import numpy as np\n",
    "from scipy.cluster.vq import kmeans2\n",
    "from scipy.optimize import minimize\n",
    "from scipy.spatial.distance import cdist\n",
    "import os\n",
    "import sys\n",
    "from aep_models import SDGPR\n",
    "\n",
    "def get_params_SGP(x_train, y_train, M): \n",
    "    default_conf = {'M': 40, 'hidden_size': [], \n",
    "\t\t\t'optimizer':'adam', 'max_it':100,\n",
    "            'MB': 250, 'lr': 0.01, 'fixed_hyp': []}\n",
    "    print 'Perform sparse GP regression'\n",
    "    model_sgp = SDGPR(X_train, y_train, default_conf['M'],\n",
    "                      hidden_sizes=default_conf['hidden_size'], lik='Gaussian')\n",
    "    param = model_sgp.optimise(method='adam', adam_lr=default_conf['lr'], \n",
    "                               mb_size=default_conf['MB'], maxiter=default_conf['max_it'],\n",
    "                               disp=True, return_cost=False, reinit_hypers=True)\n",
    "    import pdb; pdb.set_trace()\n",
    "    return param\n"
   ]
  },
  {
   "cell_type": "code",
   "execution_count": 37,
   "metadata": {},
   "outputs": [],
   "source": [
    "sys.path.insert(0,'/Users/sergiopascualdiaz/mlsalt-code/thesis_work/')\n",
    "from data_utils import load_data"
   ]
  },
  {
   "cell_type": "code",
   "execution_count": 38,
   "metadata": {},
   "outputs": [
    {
     "name": "stdout",
     "output_type": "stream",
     "text": [
      "Dataset size:  2500  Test size:  1000.0\n",
      "Training:  500\n"
     ]
    }
   ],
   "source": [
    "path = '/Users/sergiopascualdiaz/mlsalt-code/thesis_work/data/sample_1.txt'\n",
    "X_train, y_train, X_test, y_test = load_data(path, N_train=500, test=0.4, norm_out=False)\n"
   ]
  },
  {
   "cell_type": "code",
   "execution_count": 40,
   "metadata": {},
   "outputs": [
    {
     "name": "stdout",
     "output_type": "stream",
     "text": [
      "Perform sparse GP regression\n",
      "> /Users/sergiopascualdiaz/mlsalt-code/geepee/geepee/base_models.py(87)optimise()\n",
      "-> init_params_dict = self.init_hypers(self.y_train)\n",
      "(Pdb) c\n",
      "iter 0 \t obj 42.531\n",
      "iter 50 \t obj 6.333\n",
      "> <ipython-input-36-a820294d8918>(21)get_params_SGP()\n",
      "-> return param\n",
      "(Pdb) c\n"
     ]
    }
   ],
   "source": [
    "params = get_params_SGP(X_train, y_train, M=40)"
   ]
  },
  {
   "cell_type": "code",
   "execution_count": 42,
   "metadata": {},
   "outputs": [
    {
     "name": "stdout",
     "output_type": "stream",
     "text": [
      "sf_0 (1,)\n",
      "sn ()\n",
      "ls_0 (1,)\n",
      "eta2_0 (1, 40)\n",
      "zu_0 (40, 1)\n",
      "eta1_R_0 (1, 820)\n"
     ]
    }
   ],
   "source": [
    "for i in params.keys():\n",
    "    print i, params[i].shape"
   ]
  },
  {
   "cell_type": "code",
   "execution_count": 56,
   "metadata": {},
   "outputs": [
    {
     "name": "stdout",
     "output_type": "stream",
     "text": [
      "['sf_0', 'sn', 'ls_0', 'eta2_0', 'zu_0', 'eta1_R_0']\n"
     ]
    }
   ],
   "source": [
    "l = params.keys()\n",
    "print l"
   ]
  },
  {
   "cell_type": "code",
   "execution_count": 59,
   "metadata": {},
   "outputs": [
    {
     "ename": "ValueError",
     "evalue": "list.remove(x): x not in list",
     "output_type": "error",
     "traceback": [
      "\u001b[0;31m---------------------------------------------------------------------------\u001b[0m",
      "\u001b[0;31mValueError\u001b[0m                                Traceback (most recent call last)",
      "\u001b[0;32m<ipython-input-59-ad7f17a5585b>\u001b[0m in \u001b[0;36m<module>\u001b[0;34m()\u001b[0m\n\u001b[0;32m----> 1\u001b[0;31m \u001b[0ml\u001b[0m\u001b[0;34m.\u001b[0m\u001b[0mremove\u001b[0m\u001b[0;34m(\u001b[0m\u001b[0;34m[\u001b[0m\u001b[0;34m'zu_0'\u001b[0m\u001b[0;34m,\u001b[0m\u001b[0;34m'ls_0'\u001b[0m\u001b[0;34m]\u001b[0m\u001b[0;34m)\u001b[0m\u001b[0;34m\u001b[0m\u001b[0m\n\u001b[0m\u001b[1;32m      2\u001b[0m \u001b[0;32mprint\u001b[0m \u001b[0ml\u001b[0m\u001b[0;34m\u001b[0m\u001b[0m\n",
      "\u001b[0;31mValueError\u001b[0m: list.remove(x): x not in list"
     ]
    }
   ],
   "source": [
    "l.remove(['zu_0','ls_0'])\n",
    "print l"
   ]
  },
  {
   "cell_type": "code",
   "execution_count": null,
   "metadata": {
    "collapsed": true
   },
   "outputs": [],
   "source": []
  }
 ],
 "metadata": {
  "kernelspec": {
   "display_name": "Python 2",
   "language": "python",
   "name": "python2"
  },
  "language_info": {
   "codemirror_mode": {
    "name": "ipython",
    "version": 2
   },
   "file_extension": ".py",
   "mimetype": "text/x-python",
   "name": "python",
   "nbconvert_exporter": "python",
   "pygments_lexer": "ipython2",
   "version": "2.7.13"
  }
 },
 "nbformat": 4,
 "nbformat_minor": 2
}

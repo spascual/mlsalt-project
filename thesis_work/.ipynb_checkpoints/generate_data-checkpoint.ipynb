{
 "cells": [
  {
   "cell_type": "code",
   "execution_count": 1,
   "metadata": {},
   "outputs": [],
   "source": [
    "import numpy as np\n",
    "import matplotlib.pyplot as plt\n",
    "import numpy as np\n",
    "import GPy\n",
    "from dgp_sampler import DGP_sampler\n",
    "from context import delete_blocks\n",
    "from sklearn.model_selection import train_test_split\n",
    "import pdb\n",
    "import time\n",
    "np.random.seed(42)\n",
    "\n",
    "# WRITE DATA INTO A .txt FILE\n",
    "def save_data(file_name, X,y, fig):\n",
    "    data = np.concatenate((X,y), axis=1) #5000x2\n",
    "    np.savetxt('data/'+file_name+ '.txt', data,delimiter=',')\n",
    "    fig.savefig('data/figures/'+file_name+'.png')\n",
    "    \n",
    "def prepare_data(X_train, X_test, y_train, y_test, normalise=True, delete=False):\n",
    "    if normalise:\n",
    "        scaler = StandardScaler().fit(X_train)\n",
    "        X_train = scaler.transform(X_train)\n",
    "        X_test = scaler.transform(X_test)\n",
    "    elif detele: \n",
    "        X_train,y_train = delete_blocks(X_train,y_train, intervals = [2,4,8,9])\n",
    "    return X_train, X_test, y_train, y_test"
   ]
  },
  {
   "cell_type": "markdown",
   "metadata": {},
   "source": [
    "# 1. Generate single hidden Layer DGP samples"
   ]
  },
  {
   "cell_type": "code",
   "execution_count": 1,
   "metadata": {},
   "outputs": [
    {
     "ename": "NameError",
     "evalue": "name 'np' is not defined",
     "output_type": "error",
     "traceback": [
      "\u001b[0;31m---------------------------------------------------------------------------\u001b[0m",
      "\u001b[0;31mNameError\u001b[0m                                 Traceback (most recent call last)",
      "\u001b[0;32m<ipython-input-1-494a4279dafc>\u001b[0m in \u001b[0;36m<module>\u001b[0;34m()\u001b[0m\n\u001b[0;32m----> 1\u001b[0;31m \u001b[0mX\u001b[0m \u001b[0;34m=\u001b[0m \u001b[0mnp\u001b[0m\u001b[0;34m.\u001b[0m\u001b[0mlinspace\u001b[0m\u001b[0;34m(\u001b[0m\u001b[0;36m0\u001b[0m\u001b[0;34m,\u001b[0m\u001b[0;36m10.\u001b[0m\u001b[0;34m,\u001b[0m\u001b[0;36m2500\u001b[0m\u001b[0;34m)\u001b[0m\u001b[0;34m[\u001b[0m\u001b[0;34m:\u001b[0m\u001b[0;34m,\u001b[0m\u001b[0mNone\u001b[0m\u001b[0;34m]\u001b[0m\u001b[0;34m\u001b[0m\u001b[0m\n\u001b[0m\u001b[1;32m      2\u001b[0m \u001b[0ml_1\u001b[0m \u001b[0;34m=\u001b[0m \u001b[0;36m5\u001b[0m \u001b[0;31m# Large compared to interval [0,10]\u001b[0m\u001b[0;34m\u001b[0m\u001b[0m\n\u001b[1;32m      3\u001b[0m \u001b[0ml_2\u001b[0m \u001b[0;34m=\u001b[0m \u001b[0;36m0.02\u001b[0m \u001b[0;31m# Small compared to var_1 [0,5]\u001b[0m\u001b[0;34m\u001b[0m\u001b[0m\n\u001b[1;32m      4\u001b[0m \u001b[0mvar_1\u001b[0m \u001b[0;34m=\u001b[0m \u001b[0;36m1\u001b[0m\u001b[0;34m\u001b[0m\u001b[0m\n\u001b[1;32m      5\u001b[0m \u001b[0mvar_2\u001b[0m \u001b[0;34m=\u001b[0m \u001b[0;36m1\u001b[0m\u001b[0;34m\u001b[0m\u001b[0m\n",
      "\u001b[0;31mNameError\u001b[0m: name 'np' is not defined"
     ]
    }
   ],
   "source": [
    "X = np.linspace(0,10.,2500)[:,None]\n",
    "l_1 = 5 # Large compared to interval [0,10]\n",
    "l_2 = 0.02 # Small compared to var_1 [0,5]\n",
    "var_1 = 1\n",
    "var_2 = 1\n",
    "print 10/l_1, var_1/l_2\n",
    "#Good ratio is 2, 50.0\n",
    "DGP = DGP_sampler(X,\n",
    "        kern_vars=np.array([var_1,var_2]),\n",
    "        kern_lens=np.array([l_1,l_2]))\n",
    "y, fig = DGP.sample_1D(out_var=[1e-4], layer_noise=True, \n",
    "                  layer_var= [1e-6], layer_plots=True)"
   ]
  },
  {
   "cell_type": "code",
   "execution_count": 46,
   "metadata": {
    "collapsed": true
   },
   "outputs": [],
   "source": [
    "save_data('sample_2', X,y,fig)"
   ]
  },
  {
   "cell_type": "markdown",
   "metadata": {},
   "source": [
    "# 2. Other examples of functions"
   ]
  },
  {
   "cell_type": "code",
   "execution_count": 2,
   "metadata": {
    "collapsed": true
   },
   "outputs": [],
   "source": [
    "def step(x, noise=False):\n",
    "    y = x.copy()\n",
    "    y[y < 0.0] = -1.0\n",
    "    y[y > 0.0] = 1.0\n",
    "    if noise: \n",
    "        y = y + 0.05 * np.random.randn(x.shape[0], 1)\n",
    "    return y\n",
    "\n",
    "def discont(x, noise=False): \n",
    "    interval = [(x>=-2.5) & (x<-1.5),\n",
    "                (x>=-1.5) & (x<0),\n",
    "                (x>=0) & (x<1.5),\n",
    "                (x>=1.5) & (x<2.5)]\n",
    "    functions = [lambda x: 0,\n",
    "                 lambda x: -1.0,\n",
    "                 lambda x: 2.0,\n",
    "                 lambda x: 1.0]\n",
    "    y = np.piecewise(x, interval, functions)\n",
    "    return y\n",
    "    if noise: \n",
    "        y + 0.005 * np.random.randn(x.shape[0], 1)\n",
    "    return y\n",
    "\n",
    "def piece(x):\n",
    "    interval = [x<-1.75, \n",
    "                (x>=-1.75) & (x<-1.0),\n",
    "                (x>=-1.0) & (x<-0.5),\n",
    "                x>=-0.5]\n",
    "    functions = [lambda x: -x,\n",
    "                 lambda x: +x+2.5,\n",
    "                 lambda x: -0.25*x,\n",
    "                 lambda x: 0.25*x+2]\n",
    "    y = np.piecewise(x, interval, functions)\n",
    "    return y"
   ]
  },
  {
   "cell_type": "code",
   "execution_count": 3,
   "metadata": {},
   "outputs": [
    {
     "data": {
      "image/png": "[encoded data removed]",
      "text/plain": [
       "<matplotlib.figure.Figure at 0x111bddf90>"
      ]
     },
     "metadata": {},
     "output_type": "display_data"
    }
   ],
   "source": [
    "N = 500\n",
    "X = np.random.rand(N, 1) * 5 - 2.5\n",
    "y_step = step(X)\n",
    "fig_step = plt.figure()\n",
    "plt.plot(X, y_step, '+')\n",
    "plt.show()"
   ]
  },
  {
   "cell_type": "code",
   "execution_count": 4,
   "metadata": {
    "scrolled": true
   },
   "outputs": [
    {
     "data": {
      "image/png": "[encoded data removed]",
      "text/plain": [
       "<matplotlib.figure.Figure at 0x111bddd10>"
      ]
     },
     "metadata": {},
     "output_type": "display_data"
    }
   ],
   "source": [
    "y_disc = discont(X)\n",
    "fig_disc = plt.figure()\n",
    "plt.plot(X, y_disc, '+')\n",
    "plt.show()"
   ]
  },
  {
   "cell_type": "code",
   "execution_count": 5,
   "metadata": {},
   "outputs": [
    {
     "data": {
      "image/png": "[encoded data removed]",
      "text/plain": [
       "<matplotlib.figure.Figure at 0x11ba889d0>"
      ]
     },
     "metadata": {},
     "output_type": "display_data"
    }
   ],
   "source": [
    "y_piece = piece(X)\n",
    "fig_piece = plt.figure()\n",
    "plt.plot(X, y_piece, '+')\n",
    "plt.show()\n"
   ]
  },
  {
   "cell_type": "code",
   "execution_count": 43,
   "metadata": {
    "collapsed": true
   },
   "outputs": [],
   "source": [
    "save_data('disc', X, y_disc, fig_disc)"
   ]
  },
  {
   "cell_type": "markdown",
   "metadata": {
    "collapsed": true
   },
   "source": [
    "# 3D Functions "
   ]
  },
  {
   "cell_type": "code",
   "execution_count": null,
   "metadata": {
    "collapsed": true
   },
   "outputs": [],
   "source": []
  }
 ],
 "metadata": {
  "kernelspec": {
   "display_name": "Python 2",
   "language": "python",
   "name": "python2"
  },
  "language_info": {
   "codemirror_mode": {
    "name": "ipython",
    "version": 2
   },
   "file_extension": ".py",
   "mimetype": "text/x-python",
   "name": "python",
   "nbconvert_exporter": "python",
   "pygments_lexer": "ipython2",
   "version": "2.7.13"
  }
 },
 "nbformat": 4,
 "nbformat_minor": 2
}
